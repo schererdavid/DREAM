{
 "cells": [
  {
   "cell_type": "code",
   "execution_count": null,
   "metadata": {},
   "outputs": [],
   "source": [
    "import pandas as pd\n",
    "import seaborn as sns\n",
    "import matplotlib.pyplot as plt\n",
    "sns.set_theme()\n"
   ]
  },
  {
   "cell_type": "markdown",
   "metadata": {},
   "source": [
    "number of unique patients\n",
    "number of unique hospital stays\n",
    "number of unique icu stays\n",
    "gender distribution (hospital stay)\n",
    "length of stay (hospital)\n",
    "length of stay (icu)\n",
    "Age at admission (hosp)\n",
    "Age at admission (icu)\n",
    "death distribution (hosp)\n",
    "death distribution (icu)"
   ]
  },
  {
   "cell_type": "markdown",
   "metadata": {},
   "source": [
    "# MIMIC"
   ]
  },
  {
   "cell_type": "markdown",
   "metadata": {},
   "source": [
    "## general"
   ]
  },
  {
   "cell_type": "code",
   "execution_count": null,
   "metadata": {},
   "outputs": [],
   "source": [
    "patients = pd.read_csv('data/raw/mimic/hosp/patients.csv.gz')\n",
    "patients['anchor_year'] = patients['anchor_year'].astype(int)\n",
    "print(\"number of unique patients:\", len(patients['subject_id'].unique()))"
   ]
  },
  {
   "cell_type": "markdown",
   "metadata": {},
   "source": [
    "## hospital"
   ]
  },
  {
   "cell_type": "code",
   "execution_count": null,
   "metadata": {},
   "outputs": [],
   "source": [
    "admissions = pd.read_csv('data/raw/mimic/hosp/admissions.csv.gz')\n",
    "admissions['admittime'] = pd.to_datetime(admissions['admittime'])\n",
    "admissions['dischtime'] = pd.to_datetime(admissions['dischtime'])\n",
    "print(\"number of unique hospital stays:\",len(admissions['hadm_id'].unique()))\n",
    "print(\"number of unique patients with hospital stay:\",len(admissions['subject_id'].unique()))\n",
    "\n",
    "admissions = pd.merge(patients,admissions,how='inner', on=['subject_id'])\n",
    "print(\"gender distribution for hospital stays\")\n",
    "display(admissions.groupby(['gender']).count()[['hadm_id']])\n",
    "print(\"death distribution for hospital stays\")\n",
    "display(admissions[['hospital_expire_flag','hadm_id']].drop_duplicates().groupby(['hospital_expire_flag']).count()[['hadm_id']])"
   ]
  },
  {
   "cell_type": "code",
   "execution_count": null,
   "metadata": {},
   "outputs": [],
   "source": [
    "fs = 12 \n",
    "\n",
    "admissions['temp'] = pd.to_datetime(admissions['anchor_year'].astype(str))\n",
    "admissions['temp'] = admissions['admittime']  - admissions['temp'] \n",
    "admissions['temp'] = admissions['temp'].dt.days / 365.25\n",
    "admissions['age_at_admission'] = admissions['anchor_age'] + admissions['temp']\n",
    "median_age_at_admission = admissions['age_at_admission'].median()\n",
    "sns.histplot(admissions['age_at_admission'], bins=100)\n",
    "plt.axvline(median_age_at_admission, color='r', linestyle='--', label=f'Median: {median_age_at_admission:.1f} years')\n",
    "plt.legend()\n",
    "plt.title('Distribution of age at hospital admission')\n",
    "plt.xlabel('Age in years')\n",
    "plt.ylabel('Number of cases')\n",
    "plt.show()\n",
    "\n",
    "\n",
    "admissions['los'] = (admissions['dischtime'] - admissions['admittime']).dt.total_seconds() / 86400\n",
    "median_los = admissions['los'].median()\n",
    "admissions_rest = admissions[(admissions['los'] >= 0) & (admissions['los'] <= 100)]\n",
    "sns.histplot(admissions_rest['los'], bins=100) #kde=True\n",
    "plt.axvline(median_los, color='r', linestyle='--', label=f'Median: {median_los:.1f} days')\n",
    "plt.legend()\n",
    "plt.title('Distribution of length of hospital stay for first 100 days')\n",
    "plt.xlabel('Days')\n",
    "plt.ylabel('Number of cases')\n",
    "plt.show()\n",
    "\n",
    "#anchor age + (admittime - anchor year) = age at admission\n",
    "icustays = pd.read_csv('data/raw/mimic/icu/icustays.csv.gz')\n",
    "hosp_icu = pd.merge(admissions, icustays, how='inner', on='hadm_id')\n",
    "median_age_at_admission = hosp_icu['age_at_admission'].median()\n",
    "sns.histplot(hosp_icu['age_at_admission'], bins=100)\n",
    "plt.axvline(median_age_at_admission, color='r', linestyle='--', label=f'Median: {median_age_at_admission:.1f} years')\n",
    "plt.legend()\n",
    "plt.title('Distribution of age at hospital admission with icu stay')\n",
    "plt.xlabel('Age in years')\n",
    "plt.ylabel('Number of cases')\n",
    "plt.show()\n",
    "\n",
    "hosp_icu['los'] = (hosp_icu['dischtime'] - hosp_icu['admittime']).dt.total_seconds() / 86400\n",
    "median_los = hosp_icu['los'].median()\n",
    "hosp_icu_rest = hosp_icu[(hosp_icu['los'] >= 0) & (hosp_icu['los'] <= 100)] #\n",
    "sns.histplot(hosp_icu_rest['los'], bins=100) #kde=True\n",
    "plt.axvline(median_los, color='r', linestyle='--', label=f'Median: {median_los:.1f} days')\n",
    "plt.legend()\n",
    "#plt.title('Distribution of length of hospital stay for first 100 days (with icu stay)')\n",
    "plt.xlabel('Days', fontsize=fs)\n",
    "plt.ylabel('Number of cases', fontsize=fs)\n",
    "plt.legend(fontsize=fs)\n",
    "plt.xticks(fontsize=fs)\n",
    "plt.yticks(fontsize=fs)\n",
    "plt.xlim(0, 100)\n",
    "plt.tight_layout()\n",
    "plt.savefig('images/data/mimic_hosp_los.png')\n",
    "plt.show()"
   ]
  },
  {
   "cell_type": "code",
   "execution_count": null,
   "metadata": {},
   "outputs": [],
   "source": [
    "micro = pd.read_csv(\"data/raw/mimic/hosp/microbiologyevents.csv.gz\")\n",
    "micro = micro[(micro['spec_type_desc'] == 'BLOOD CULTURE') & (micro['org_name'] != 'CANCELLED')]\n",
    "micro['isPositive'] = micro['org_name'].notnull()\n",
    "\n",
    "grouped = micro.groupby('hadm_id')['isPositive'].agg(['sum', 'size'])\n",
    "\n",
    "at_least_one_positive = len(grouped[grouped['sum'] > 0])\n",
    "all_negative = len(grouped[grouped['sum'] == 0])\n",
    "\n",
    "print(\"total cases with blood culture\",len(micro['hadm_id'].unique()))\n",
    "print(f\"Hospitalisationen mit mindestens einem positiven Test: {at_least_one_positive}\")\n",
    "print(f\"Hospitalisationen mit allen negativen Tests: {all_negative}\")"
   ]
  },
  {
   "cell_type": "markdown",
   "metadata": {},
   "source": [
    "## icu"
   ]
  },
  {
   "cell_type": "code",
   "execution_count": null,
   "metadata": {},
   "outputs": [],
   "source": [
    "icustays = pd.read_csv('data/raw/mimic/icu/icustays.csv.gz')\n",
    "icustays['intime'] = pd.to_datetime(icustays['intime'])\n",
    "icustays['outtime'] = pd.to_datetime(icustays['outtime'])\n",
    "\n",
    "print(\"number of unique icu stays \",len(icustays['stay_id'].unique()))\n",
    "print(\"number of unique patients with icu stay\",len(icustays['subject_id'].unique()))\n",
    "print(\"number of unique hospital stays with icu stay\",len(icustays['hadm_id'].unique()))\n",
    "\n"
   ]
  },
  {
   "cell_type": "code",
   "execution_count": null,
   "metadata": {},
   "outputs": [],
   "source": [
    "icustays = pd.merge(patients,icustays,how='inner', on=['subject_id'])\n",
    "print(\"gender distribution for icu stays\")\n",
    "display(icustays.groupby(['gender']).count()[['stay_id']])\n",
    "icustays['temp'] = pd.to_datetime(icustays['anchor_year'].astype(str))\n",
    "icustays['temp'] = icustays['intime']  - icustays['temp'] \n",
    "icustays['temp'] = (icustays['temp'].dt.total_seconds() / 86400) / 365.25\n",
    "icustays['age_at_admission'] = icustays['anchor_age'] + icustays['temp']\n",
    "median_age_at_admission = icustays['age_at_admission'].median()\n",
    "sns.histplot(icustays['age_at_admission'], bins=100)\n",
    "plt.axvline(median_age_at_admission, color='r', linestyle='--', label=f'Median: {median_age_at_admission:.1f} years')\n",
    "plt.legend()\n",
    "plt.legend(fontsize=fs)\n",
    "plt.xlabel('Age in years', fontsize=fs)\n",
    "plt.ylabel('Number of cases', fontsize=fs)\n",
    "plt.xticks(fontsize=fs)\n",
    "plt.yticks(fontsize=fs)\n",
    "plt.xlim(0, 100)\n",
    "plt.tight_layout()\n",
    "plt.savefig('images/data/mimic_age.png')\n",
    "plt.show()\n",
    "\n",
    "median_los = icustays['los'].median()\n",
    "icustays_rest = icustays[(icustays['los'] >= 0)& (icustays['los'] <= 100)] # \n",
    "sns.histplot(icustays_rest['los'], bins=100) #kde=True\n",
    "plt.axvline(median_los, color='r', linestyle='--', label=f'Median: {median_los:.1f} days')\n",
    "plt.legend()\n",
    "plt.legend(fontsize=fs)\n",
    "plt.xlabel('Days', fontsize=fs)\n",
    "plt.ylabel('Number of cases', fontsize=fs)\n",
    "plt.xticks(fontsize=fs)\n",
    "plt.yticks(fontsize=fs)\n",
    "plt.xlim(0, 100)\n",
    "plt.tight_layout()\n",
    "plt.savefig('images/data/mimic_icu_los.png')\n",
    "plt.show()\n",
    "\n",
    "\n",
    "print(\"death distribution (with icu stay)\")\n",
    "df = pd.merge(icustays, admissions, how='inner', on='hadm_id')\n",
    "display(df[['hospital_expire_flag','hadm_id']].drop_duplicates().groupby(['hospital_expire_flag']).count()[['hadm_id']])\n",
    "\n"
   ]
  },
  {
   "cell_type": "code",
   "execution_count": null,
   "metadata": {},
   "outputs": [],
   "source": [
    "micro_icu = pd.merge(icustays, micro, how='inner', on='hadm_id')\n",
    "micro_icu = micro_icu[(micro_icu['intime'] <= micro_icu['charttime']) & (micro_icu['charttime'] <= micro_icu['outtime'])]\n",
    "\n",
    "\n",
    "grouped = micro_icu.groupby('stay_id')['isPositive'].agg(['sum', 'size'])\n",
    "\n",
    "at_least_one_positive = len(grouped[grouped['sum'] > 0])\n",
    "all_negative = len(grouped[grouped['sum'] == 0])\n",
    "\n",
    "print(\"total icu stays without blood culture\",len(icustays['stay_id'].unique())-len(micro_icu['stay_id'].unique()))\n",
    "print(\"total icu stays with blood culture\",len(micro_icu['stay_id'].unique()))\n",
    "print(f\"ICU stays mit mindestens einem positiven Test: {at_least_one_positive}\")\n",
    "print(f\"ICU stays mit allen negativen Tests: {all_negative}\")\n"
   ]
  },
  {
   "cell_type": "code",
   "execution_count": null,
   "metadata": {},
   "outputs": [],
   "source": [
    "\n",
    "def ab_administration(database):\n",
    "\n",
    "    events = pd.read_parquet('data/concepts/'+database+'/DrugAdministrationEvent.parquet').rename(columns={'SubjectPseudoIdentifier':'ID', 'StartDateTime':'Time'})\n",
    "\n",
    "    stays = pd.read_parquet('data/concepts/'+database+'/AdministrativeCase.parquet').rename(columns={'SubjectPseudoIdentifier':'ID'})\n",
    "    icu_stays = stays[stays['Location'] == 'icu'].copy()\n",
    "    hosp_stays = stays[stays['Location'] == 'hosp'].copy()\n",
    "\n",
    "    df = pd.merge(icu_stays,hosp_stays,how='inner',on='ID', suffixes=('_icu', '_hosp'))\n",
    "    df = df[(df['AdmissionDateTime_hosp'] <= df['AdmissionDateTime_icu']) & (df['DischargeDateTime_icu'] <= df['DischargeDateTime_hosp'])]\n",
    "    df.drop(['Location_icu','Location_hosp'],axis=1,inplace=True)\n",
    "    df\n",
    "\n",
    "    def check_time(row):\n",
    "        if row['Time'] < row['AdmissionDateTime_icu']:\n",
    "            return 'pre'\n",
    "        elif row['Time'] > row['DischargeDateTime_icu']:\n",
    "            return 'post'\n",
    "        elif row['AdmissionDateTime_icu'] <= row['Time'] and row['Time'] <= row['DischargeDateTime_icu']:\n",
    "            return 'in'\n",
    "        else:\n",
    "            raise Exception(\"not possible\")\n",
    "\n",
    "    df = pd.merge(df, events, how='inner',on='ID')\n",
    "    # filter to get all applications within the hospital stay\n",
    "    df = df[(df['AdmissionDateTime_hosp'] <= df['Time']) & (df['Time'] <= df['DischargeDateTime_hosp'])].copy()\n",
    "\n",
    "    df['pre_in_post_icu'] = df.apply(check_time, axis=1)\n",
    "    display(df.groupby(['pre_in_post_icu']).count())\n",
    "\n",
    "ab_administration('mimic')"
   ]
  },
  {
   "cell_type": "markdown",
   "metadata": {},
   "source": [
    "# eicu"
   ]
  },
  {
   "cell_type": "markdown",
   "metadata": {},
   "source": [
    "## icu"
   ]
  },
  {
   "cell_type": "code",
   "execution_count": null,
   "metadata": {},
   "outputs": [],
   "source": [
    "patient = pd.read_csv('data/raw/eicu/patient.csv.gz')\n",
    "patient['age'] = patient['age'].replace('> 89', '90')\n",
    "\n",
    "\n",
    "print(\"number of unique icu stays: \",len(patient['patientunitstayid'].unique()))\n",
    "print(\"number of unique patients with icu stay\",len(patient['uniquepid'].unique()))\n",
    "print(\"number of unique patients with hospital stay\",len(patient['uniquepid'].unique()))\n",
    "print(\"number of unique patients\", len(patient['uniquepid'].unique()))\n",
    "\n",
    "\n",
    "print('number of unique hospital stays with icu stay: ',len(patient['patienthealthsystemstayid'].unique()))\n",
    "print('number of unique hospital stays: ',len(patient['patienthealthsystemstayid'].unique()))\n",
    "\n",
    "print('gender distribution icu stays')\n",
    "print(patient[['patientunitstayid','gender']].drop_duplicates().groupby(['gender']).count()[['patientunitstayid']])"
   ]
  },
  {
   "cell_type": "code",
   "execution_count": null,
   "metadata": {},
   "outputs": [],
   "source": [
    "temp = patient[['patientunitstayid','age']].drop_duplicates()\n",
    "temp = temp[temp['age'].notna()]\n",
    "temp['age'] = temp['age'].astype(int)\n",
    "median_age_at_admission = temp['age'].median()\n",
    "sns.histplot(temp['age'], bins=90)\n",
    "plt.axvline(median_age_at_admission, color='r', linestyle='--', label=f'Median: {median_age_at_admission:.1f} years')\n",
    "plt.legend()\n",
    "#plt.title('Distribution of age at ICU admission')\n",
    "plt.xlabel('Age in years', fontsize=fs)\n",
    "plt.ylabel('Number of cases', fontsize=fs)\n",
    "plt.legend(fontsize=fs)\n",
    "plt.xticks(fontsize=fs)\n",
    "plt.yticks(fontsize=fs)\n",
    "plt.xlim(0, 100)\n",
    "plt.tight_layout()\n",
    "plt.savefig('images/data/eicu_age.png')\n",
    "plt.show()\n",
    "\n",
    "patient = patient[patient['unitdischargeoffset'] >= 0]\n",
    "patient = patient[patient['hospitaladmitoffset'] <= 0]\n",
    "patient = patient[patient['hospitaldischargeoffset'] >= 0]\n",
    "patient['hosp_los'] = pd.to_timedelta(patient['hospitaladmitoffset'].abs()+patient['hospitaldischargeoffset'].abs(), unit='minutes').dt.total_seconds() / 86400\n",
    "patient['icu_los'] = pd.to_timedelta(patient['unitdischargeoffset'].abs(), unit='minutes').dt.total_seconds() / 86400\n",
    "patient = patient[patient['hosp_los'] >= patient['icu_los']]\n",
    "\n",
    "temp_rest = patient[['patienthealthsystemstayid','hosp_los']].drop_duplicates()\n",
    "median_los = temp_rest['hosp_los'].median()\n",
    "temp_rest = temp_rest[(temp_rest['hosp_los'] >= 0) & (temp_rest['hosp_los'] <= 100)] #\n",
    "sns.histplot(temp_rest['hosp_los'], bins=100) #kde=True\n",
    "plt.axvline(median_los, color='r', linestyle='--', label=f'Median: {median_los:.1f} days')\n",
    "plt.legend()\n",
    "#plt.title('Distribution of length of hospital stay for patients with icu stay')\n",
    "plt.xlabel('Days', fontsize=fs)\n",
    "plt.ylabel('Number of cases', fontsize=fs)\n",
    "plt.legend(fontsize=fs)\n",
    "plt.xticks(fontsize=fs)\n",
    "plt.yticks(fontsize=fs)\n",
    "plt.xlim(0, 100)\n",
    "plt.tight_layout()\n",
    "plt.savefig('images/data/eicu_hosp_los.png')\n",
    "plt.show()\n",
    "\n",
    "temp_rest = patient[['patientunitstayid','icu_los']].drop_duplicates()\n",
    "median_los = temp_rest['icu_los'].median()\n",
    "temp_rest = temp_rest[(temp_rest['icu_los'] >= 0) & (temp_rest['icu_los'] <= 100)] #\n",
    "sns.histplot(temp_rest['icu_los'], bins=100) #kde=True\n",
    "plt.axvline(median_los, color='r', linestyle='--', label=f'Median: {median_los:.1f} days')\n",
    "plt.legend()\n",
    "#plt.title('Distribution of length of ICU stay')\n",
    "plt.xlabel('Days', fontsize=fs)\n",
    "plt.ylabel('Number of cases', fontsize=fs)\n",
    "plt.legend(fontsize=fs)\n",
    "plt.xticks(fontsize=fs)\n",
    "plt.yticks(fontsize=fs)\n",
    "plt.xlim(0, 100)\n",
    "plt.tight_layout()\n",
    "plt.savefig('images/data/eicu_icu_los.png')\n",
    "plt.show()\n",
    "\n",
    "\n",
    "print(\"death distribution (with icu stay)\")\n",
    "display(patient[['patienthealthsystemstayid','hospitaldischargestatus']].drop_duplicates().groupby(['hospitaldischargestatus']).count()[['patienthealthsystemstayid']])\n"
   ]
  },
  {
   "cell_type": "code",
   "execution_count": null,
   "metadata": {},
   "outputs": [],
   "source": [
    "df = pd.read_csv('data/raw/eicu/microLab.csv.gz')\n",
    "\n",
    "patient = pd.read_csv('data/raw/eicu/patient.csv.gz')[['patientunitstayid','patienthealthsystemstayid']]\n",
    "df = pd.merge(df,patient, how='inner', on='patientunitstayid')\n",
    "\n",
    "\n",
    "micro = df[df['culturesite'].isin(['Blood, Venipuncture', 'Blood, Central Line'])].copy()\n",
    "micro['isPositive'] = micro['organism'] != 'no growth'\n",
    "\n",
    "\n",
    "\n",
    "grouped = micro.groupby('patientunitstayid')['isPositive'].agg(['sum', 'size'])\n",
    "\n",
    "\n",
    "at_least_one_positive = len(grouped[grouped['sum'] > 0])\n",
    "\n",
    "\n",
    "all_negative = len(grouped[grouped['sum'] == 0])\n",
    "\n",
    "print(\"total icu stays without blood culture\",len(patient['patientunitstayid'].unique())-len(micro['patientunitstayid'].unique()))\n",
    "print(\"total icu stays with blood culture\",len(micro['patientunitstayid'].unique()))\n",
    "print(f\"ICU stays mit mindestens einem positiven Test: {at_least_one_positive}\")\n",
    "print(f\"ICU stays mit allen negativen Tests: {all_negative}\")\n",
    "\n"
   ]
  },
  {
   "cell_type": "code",
   "execution_count": null,
   "metadata": {},
   "outputs": [],
   "source": [
    "ab_administration('eicu')"
   ]
  },
  {
   "cell_type": "markdown",
   "metadata": {},
   "source": [
    "# pic"
   ]
  },
  {
   "cell_type": "markdown",
   "metadata": {},
   "source": [
    "## general"
   ]
  },
  {
   "cell_type": "code",
   "execution_count": null,
   "metadata": {},
   "outputs": [],
   "source": [
    "patients = pd.read_csv('data/raw/pic/PATIENTS.csv.gz')\n",
    "patients['DOB'] = pd.to_datetime(patients['DOB'])\n",
    "#display(patients)\n",
    "#patients['anchor_year'] = patients['anchor_year'].astype(int)\n",
    "print(\"number of unique patients:\", len(patients['SUBJECT_ID'].unique()))"
   ]
  },
  {
   "cell_type": "markdown",
   "metadata": {},
   "source": [
    "# hospital"
   ]
  },
  {
   "cell_type": "code",
   "execution_count": null,
   "metadata": {},
   "outputs": [],
   "source": [
    "admissions = pd.read_csv('data/raw/pic/ADMISSIONS.csv.gz')\n",
    "admissions = pd.merge(patients,admissions,how='inner', on=['SUBJECT_ID'])\n",
    "admissions['ADMITTIME'] = pd.to_datetime(admissions['ADMITTIME'])\n",
    "admissions['DISCHTIME'] = pd.to_datetime(admissions['DISCHTIME'])\n",
    "\n",
    "print(\"number of unique hospital stays:\",len(admissions['HADM_ID'].unique()))\n",
    "print(\"number of unique patients with hospital stay:\",len(admissions['SUBJECT_ID'].unique()))\n",
    "\n",
    "print(\"gender distribution for hospital stays\")\n",
    "display(admissions.groupby(['GENDER']).count()[['HADM_ID']])\n",
    "\n",
    "print(\"death distribution\")\n",
    "display(admissions[['HOSPITAL_EXPIRE_FLAG','HADM_ID']].drop_duplicates().groupby(['HOSPITAL_EXPIRE_FLAG']).count()[['HADM_ID']])\n",
    "\n"
   ]
  },
  {
   "cell_type": "code",
   "execution_count": null,
   "metadata": {},
   "outputs": [],
   "source": [
    "admissions['age_at_admission'] = ((admissions['ADMITTIME'] - admissions['DOB']).dt.total_seconds() / 86400) / 365.25\n",
    "median_age_at_admission = admissions['age_at_admission'].median()\n",
    "sns.histplot(admissions['age_at_admission'], bins=100)\n",
    "plt.axvline(median_age_at_admission, color='r', linestyle='--', label=f'Median: {median_age_at_admission:.1f} years')\n",
    "plt.legend()\n",
    "plt.title('Distribution of age at hospital admission')\n",
    "plt.xlabel('Age in years')\n",
    "plt.ylabel('Number of cases')\n",
    "plt.show()\n",
    "\n",
    "\n",
    "admissions['los'] = (admissions['DISCHTIME'] - admissions['ADMITTIME']).dt.total_seconds() / 86400\n",
    "median_los = admissions['los'].median()\n",
    "admissions_rest = admissions[(admissions['los'] >= 0) & (admissions['los'] <= 100)] #\n",
    "sns.histplot(admissions_rest['los'], bins=100) #kde=True\n",
    "plt.axvline(median_los, color='r', linestyle='--', label=f'Median: {median_los:.1f} days')\n",
    "plt.legend()\n",
    "plt.title('Distribution of length of hospital stay')\n",
    "plt.xlabel('Days')\n",
    "plt.ylabel('Number of cases')\n",
    "plt.show()\n"
   ]
  },
  {
   "cell_type": "code",
   "execution_count": null,
   "metadata": {},
   "outputs": [],
   "source": [
    "micro = pd.read_csv(\"data/raw/pic/MICROBIOLOGYEVENTS.csv.gz\")\n",
    "\n",
    "\n",
    "micro = micro[micro['SPEC_ITEMID'].str.contains('LIS0162')]\n",
    "#| micro['SPEC_ITEMID'].str.contains('LIS05088') | micro['SPEC_ITEMID'].str.contains('LIS0156')| micro['SPEC_ITEMID'].str.contains('LIS0567')\n",
    "\n",
    "\n",
    "micro['isPositive'] = micro['ORG_ITEMID'].notnull()\n",
    "#display(micro[micro['ORG_ITEMID'].isna()])\n",
    "#display(micro)\n",
    "\n",
    "grouped = micro.groupby('HADM_ID')['isPositive'].agg(['sum', 'size'])\n",
    "\n",
    "at_least_one_positive = len(grouped[grouped['sum'] > 0])\n",
    "all_negative = len(grouped[grouped['sum'] == 0])\n",
    "\n",
    "print(\"total cases with blood culture\",len(micro['HADM_ID'].unique()))\n",
    "print(f\"Hospitalisationen mit mindestens einem positiven Test: {at_least_one_positive}\")\n",
    "print(f\"Hospitalisationen mit allen negativen Tests: {all_negative}\")"
   ]
  },
  {
   "cell_type": "markdown",
   "metadata": {},
   "source": [
    "## icu"
   ]
  },
  {
   "cell_type": "code",
   "execution_count": null,
   "metadata": {},
   "outputs": [],
   "source": [
    "icustays = pd.read_csv('data/raw/pic/ICUSTAYS.csv.gz')\n",
    "print(\"number of unique icu stays \",len(icustays['ICUSTAY_ID'].unique()))\n",
    "print(\"number of unique patients with icu stay\",len(icustays['SUBJECT_ID'].unique()))\n",
    "print(\"number of unique hospital stays with icu stay\",len(icustays['HADM_ID'].unique()))"
   ]
  },
  {
   "cell_type": "code",
   "execution_count": null,
   "metadata": {},
   "outputs": [],
   "source": [
    "icustays = pd.read_csv('data/raw/pic/ICUSTAYS.csv.gz')\n",
    "icustays['INTIME'] = pd.to_datetime(icustays['INTIME'])\n",
    "icustays['OUTTIME'] = pd.to_datetime(icustays['OUTTIME'])\n",
    "icustays = pd.merge(patients,icustays,how='inner', on=['SUBJECT_ID'])\n",
    "print(\"gender distribution for icu stays\")\n",
    "display(icustays.groupby(['GENDER']).count()[['ICUSTAY_ID']])\n",
    "icustays['age_at_admission'] = (icustays['INTIME'] - icustays['DOB']).dt.days / 365.25\n",
    "median_age_at_admission = icustays['age_at_admission'].median()\n",
    "sns.histplot(icustays['age_at_admission'], bins=100)\n",
    "plt.axvline(median_age_at_admission, color='r', linestyle='--', label=f'Median: {median_age_at_admission:.1f} years')\n",
    "plt.legend()\n",
    "#plt.title('Distribution of age at ICU admission')\n",
    "plt.xlabel('Age in years', fontsize=fs)\n",
    "plt.ylabel('Number of cases', fontsize=fs)\n",
    "plt.legend(fontsize=fs)\n",
    "plt.xticks(fontsize=fs)\n",
    "plt.yticks(fontsize=fs)\n",
    "#plt.xlim(0, 100)\n",
    "plt.tight_layout()\n",
    "plt.savefig('images/data/pic_age.png')\n",
    "plt.show()\n",
    "\n",
    "median_los = icustays['LOS'].median()\n",
    "icustays_rest = icustays[(icustays['LOS'] >= 0) & (icustays['LOS'] <= 100)] #\n",
    "sns.histplot(icustays_rest['LOS'], bins=100) #kde=True\n",
    "plt.axvline(median_los, color='r', linestyle='--', label=f'Median: {median_los:.1f} days')\n",
    "plt.legend()\n",
    "#plt.title('Distribution of length of icu stay')\n",
    "plt.xlabel('Days', fontsize=fs)\n",
    "plt.ylabel('Number of cases', fontsize=fs)\n",
    "plt.legend(fontsize=fs)\n",
    "plt.xticks(fontsize=fs)\n",
    "plt.yticks(fontsize=fs)\n",
    "plt.xlim(0, 100)\n",
    "plt.tight_layout()\n",
    "plt.savefig('images/data/pic_icu_los.png')\n",
    "plt.show()\n",
    "\n",
    "print(\"death distribution (with icu stay)\")\n",
    "df = pd.merge(icustays, admissions, how='inner', on='HADM_ID')\n",
    "display(df[['HOSPITAL_EXPIRE_FLAG','HADM_ID']].drop_duplicates().groupby(['HOSPITAL_EXPIRE_FLAG']).count()[['HADM_ID']])\n",
    "\n",
    "df['los'] = (df['DISCHTIME'] - df['ADMITTIME']).dt.total_seconds() / 86400\n",
    "median_los = df['los'].median()\n",
    "df_rest = df[(df['los'] >= 0) & (df['los'] <= 100)] #\n",
    "sns.histplot(df_rest['los'], bins=100) #kde=True\n",
    "plt.axvline(median_los, color='r', linestyle='--', label=f'Median: {median_los:.1f} days')\n",
    "plt.legend()\n",
    "#plt.title('Distribution of length of hospital stay (with icu stay)')\n",
    "plt.xlabel('Days', fontsize=fs)\n",
    "plt.ylabel('Number of cases', fontsize=fs)\n",
    "plt.legend(fontsize=fs)\n",
    "plt.xticks(fontsize=fs)\n",
    "plt.yticks(fontsize=fs)\n",
    "plt.xlim(0, 100)\n",
    "plt.tight_layout()\n",
    "plt.savefig('images/data/pic_hosp_los.png')\n",
    "plt.show()"
   ]
  },
  {
   "cell_type": "code",
   "execution_count": null,
   "metadata": {},
   "outputs": [],
   "source": [
    "\n",
    "micro_icu = pd.merge(icustays, micro, how='inner', on='HADM_ID')\n",
    "micro_icu = micro_icu[(micro_icu['INTIME'] <= micro_icu['CHARTTIME']) & (micro_icu['CHARTTIME'] <= micro_icu['OUTTIME'])]\n",
    "\n",
    "\n",
    "grouped = micro_icu.groupby('ICUSTAY_ID')['isPositive'].agg(['sum', 'size'])\n",
    "\n",
    "at_least_one_positive = len(grouped[grouped['sum'] > 0])\n",
    "all_negative = len(grouped[grouped['sum'] == 0])\n",
    "\n",
    "print(\"total icu stays without blood culture\",len(icustays['ICUSTAY_ID'].unique())-len(micro_icu['ICUSTAY_ID'].unique()))\n",
    "print(\"total icu stays with blood culture\",len(micro_icu['ICUSTAY_ID'].unique()))\n",
    "print(f\"ICU stays mit mindestens einem positiven Test: {at_least_one_positive}\")\n",
    "print(f\"ICU stays mit allen negativen Tests: {all_negative}\")\n"
   ]
  },
  {
   "cell_type": "code",
   "execution_count": null,
   "metadata": {},
   "outputs": [],
   "source": [
    "\n",
    "ab_administration('pic')"
   ]
  }
 ],
 "metadata": {
  "kernelspec": {
   "display_name": "Python 3",
   "language": "python",
   "name": "python3"
  },
  "language_info": {
   "codemirror_mode": {
    "name": "ipython",
    "version": 3
   },
   "file_extension": ".py",
   "mimetype": "text/x-python",
   "name": "python",
   "nbconvert_exporter": "python",
   "pygments_lexer": "ipython3",
   "version": "3.10.12"
  }
 },
 "nbformat": 4,
 "nbformat_minor": 2
}
