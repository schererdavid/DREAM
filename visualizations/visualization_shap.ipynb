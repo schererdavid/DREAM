{
 "cells": [
  {
   "cell_type": "code",
   "execution_count": null,
   "metadata": {},
   "outputs": [],
   "source": [
    "import pandas as pd\n",
    "import matplotlib.pyplot as plt\n",
    "import shap"
   ]
  },
  {
   "cell_type": "code",
   "execution_count": null,
   "metadata": {},
   "outputs": [],
   "source": [
    "feature_importances_df = pd.DataFrame()\n",
    "\n",
    "for seed in [42, 43, 44, 45, 46]:\n",
    "    shape_values = pd.read_csv('data/results/traditional/mimic/microbiology_res_False/ab_False/seed_'+str(seed)+'/lookback_2/time_point(\\'random\\', 1)/sample_None_None/LGBMClassifier/shap_values.csv').drop(['Unnamed: 0'], axis=1)\n",
    "    X_test = pd.read_parquet('data/model_input/traditional/mimic/microbiology_res_False/ab_False/seed_'+str(seed)+'/X_test_time_point_(\\'random\\', 1)_lookback_2.parquet')\n",
    "\n",
    "    shap.summary_plot(shape_values.values, X_test, max_display=10, show=True, plot_type='dot')\n",
    "\n",
    "    # Sum the absolute SHAP values for all samples to get a measure of feature importance\n",
    "    feature_importance = shape_values.abs().mean(axis=0).sort_values(ascending=False)\n",
    "    \n",
    "    # Append the feature importance to the collection DataFrame\n",
    "    feature_importances_df = feature_importances_df.append(feature_importance, ignore_index=True)\n",
    "\n",
    "meanshap = pd.DataFrame(feature_importances_df.mean(axis=0), columns=['Mean Absolute SHAP Value'])\n",
    "meanshap = meanshap.sort_values(['Mean Absolute SHAP Value'], ascending=False).head(10)\n",
    "\n",
    "meanshap\n"
   ]
  },
  {
   "cell_type": "code",
   "execution_count": null,
   "metadata": {},
   "outputs": [],
   "source": [
    "feature_importances_df = pd.DataFrame()\n",
    "\n",
    "for seed in [42, 43, 44, 45, 46]:\n",
    "    shape_values = pd.read_csv('data/results/traditional/mimic/microbiology_res_False/ab_True/seed_'+str(seed)+'/lookback_2/time_point(\\'random\\', 1)/sample_None_None/LGBMClassifier/shap_values.csv').drop(['Unnamed: 0'], axis=1)\n",
    "    X_test = pd.read_parquet('data/model_input/traditional/mimic/microbiology_res_False/ab_True/seed_'+str(seed)+'/X_test_time_point_(\\'random\\', 1)_lookback_2.parquet')\n",
    "\n",
    "    shap.summary_plot(shape_values.values, X_test, max_display=10, show=True, plot_type='dot')\n",
    "\n",
    "    # Sum the absolute SHAP values for all samples to get a measure of feature importance\n",
    "    feature_importance = shape_values.abs().mean(axis=0).sort_values(ascending=False)\n",
    "    \n",
    "    # Append the feature importance to the collection DataFrame\n",
    "    feature_importances_df = feature_importances_df.append(feature_importance, ignore_index=True)\n",
    "\n",
    "meanshap = pd.DataFrame(feature_importances_df.mean(axis=0), columns=['Mean Absolute SHAP Value'])\n",
    "meanshap = meanshap.sort_values(['Mean Absolute SHAP Value'], ascending=False).head(10)\n",
    "\n",
    "meanshap"
   ]
  },
  {
   "cell_type": "code",
   "execution_count": null,
   "metadata": {},
   "outputs": [],
   "source": [
    "feature_importances_df = pd.DataFrame()\n",
    "\n",
    "for seed in [42, 43, 44, 45, 46]:\n",
    "    shape_values = pd.read_csv('data/results/traditional/mimic/microbiology_res_True/ab_False/seed_'+str(seed)+'/lookback_2/time_point(\\'random\\', 1)/sample_None_None/LGBMClassifier/shap_values.csv').drop(['Unnamed: 0'], axis=1)\n",
    "    X_test = pd.read_parquet('data/model_input/traditional/mimic/microbiology_res_True/ab_False/seed_'+str(seed)+'/X_test_time_point_(\\'random\\', 1)_lookback_2.parquet')\n",
    "\n",
    "    shap.summary_plot(shape_values.values, X_test, max_display=10, show=True, plot_type='dot')\n",
    "\n",
    "    # Sum the absolute SHAP values for all samples to get a measure of feature importance\n",
    "    feature_importance = shape_values.abs().mean(axis=0).sort_values(ascending=False)\n",
    "    \n",
    "    # Append the feature importance to the collection DataFrame\n",
    "    feature_importances_df = feature_importances_df.append(feature_importance, ignore_index=True)\n",
    "\n",
    "meanshap = pd.DataFrame(feature_importances_df.mean(axis=0), columns=['Mean Absolute SHAP Value'])\n",
    "meanshap = meanshap.sort_values(['Mean Absolute SHAP Value'], ascending=False).head(10)\n",
    "\n",
    "meanshap"
   ]
  }
 ],
 "metadata": {
  "kernelspec": {
   "display_name": "Python 3",
   "language": "python",
   "name": "python3"
  },
  "language_info": {
   "codemirror_mode": {
    "name": "ipython",
    "version": 3
   },
   "file_extension": ".py",
   "mimetype": "text/x-python",
   "name": "python",
   "nbconvert_exporter": "python",
   "pygments_lexer": "ipython3",
   "version": "3.10.12"
  }
 },
 "nbformat": 4,
 "nbformat_minor": 2
}
